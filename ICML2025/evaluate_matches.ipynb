{
 "cells": [
  {
   "cell_type": "code",
   "execution_count": 1,
   "id": "3f40e835-c7b9-49ef-9712-2cad8f091b95",
   "metadata": {},
   "outputs": [],
   "source": [
    "import time\n",
    "import argparse\n",
    "import json\n",
    "import os\n",
    "import numpy as np\n",
    "import pandas as pd\n",
    "import matplotlib.pyplot as plt\n",
    "from IPython.display import HTML\n",
    "\n",
    "# Configuration\n",
    "class Cfg:\n",
    "    matchings = ['assignments_max_4_5.json', 'assignments_q_0.75_4_5.json']\n",
    "    root_dir = './data/'"
   ]
  },
  {
   "cell_type": "code",
   "execution_count": 2,
   "id": "1c14bcb1-d691-48d3-b2e8-1cc231fbdb72",
   "metadata": {},
   "outputs": [],
   "source": [
    "def parse_matchings_file(matchings_path):\n",
    "    with open(matchings_path, 'r') as file:\n",
    "        matchings = json.load(file)\n",
    "    return matchings\n",
    "\n",
    "def matchings_to_scores_df(matchings):\n",
    "    \"\"\"Returns a dataframe with schema {'paper_id': 'str', 'scores': List[float]}\"\"\"\n",
    "    paper_to_scores = {}\n",
    "    for paper_id in matchings:\n",
    "        # Note: Some papers have an ID of 0 for some reason?\n",
    "        # if paper_id == '0' or paper_id == 0:\n",
    "        #     print(matchings[paper_id])\n",
    "        for match in matchings[paper_id]:\n",
    "            if paper_id not in paper_to_scores:\n",
    "                paper_to_scores[paper_id] = []\n",
    "            paper_to_scores[paper_id].append(match['aggregate_score'])\n",
    "    df = pd.DataFrame({'paper_id': list(paper_to_scores.keys()),\n",
    "                       'scores': list(paper_to_scores.values())})\n",
    "    return df\n",
    "\n",
    "def matchings_to_load_df(matchings):\n",
    "    \"\"\"Returns a dataframe with schema {'reviewer_id': 'str', 'paper_info': [(paper_id, score), ...]]}.\n",
    "    Indices of paper_ids and papers_scores correspond to each other.\"\"\"\n",
    "    # reviewer_id -> [(paper_id, score), ...]\n",
    "    reviewer_to_papers = {}\n",
    "    for paper_id in matchings:\n",
    "        for match in matchings[paper_id]:\n",
    "            reviewer = match['user']\n",
    "            score = match['aggregate_score']\n",
    "            val = reviewer_to_papers.get(reviewer, [])\n",
    "            val.append((paper_id, score))\n",
    "            reviewer_to_papers[reviewer] = val\n",
    "    df = pd.DataFrame({'reviewer_id': list(reviewer_to_papers.keys()),\n",
    "                       'paper_info': list(reviewer_to_papers.values())})\n",
    "    return df"
   ]
  },
  {
   "cell_type": "code",
   "execution_count": 3,
   "id": "dfb31607-652f-4a7b-bf1f-2a2626fe49e8",
   "metadata": {},
   "outputs": [],
   "source": [
    "# paper_id: [{'aggregate_score': float, 'user': str}, ...]\n",
    "all_matchings = {fname: {'matchings': parse_matchings_file(os.path.join(Cfg.root_dir, fname))} for fname in Cfg.matchings}"
   ]
  },
  {
   "cell_type": "markdown",
   "id": "955296bd-cce8-4984-bb0e-08f3cded3a73",
   "metadata": {},
   "source": [
    "# General Score Statistics\n",
    "\n",
    "- Mean score per paper and its standard deviation.\n",
    "- Lowest 5% quantile score"
   ]
  },
  {
   "cell_type": "code",
   "execution_count": 4,
   "id": "954ae3c4-89a7-490b-b5de-3dd2e31a1d73",
   "metadata": {},
   "outputs": [
    {
     "name": "stdout",
     "output_type": "stream",
     "text": [
      "Matchings: assignments_max_4_5.json\n"
     ]
    },
    {
     "data": {
      "image/png": "[encoded data removed]",
      "text/plain": [
       "<Figure size 500x200 with 2 Axes>"
      ]
     },
     "metadata": {},
     "output_type": "display_data"
    },
    {
     "data": {
      "text/html": [
       "<hr>"
      ],
      "text/plain": [
       "<IPython.core.display.HTML object>"
      ]
     },
     "metadata": {},
     "output_type": "display_data"
    },
    {
     "name": "stdout",
     "output_type": "stream",
     "text": [
      "Matchings: assignments_q_0.75_4_5.json\n"
     ]
    },
    {
     "data": {
      "image/png": "[encoded data removed]",
      "text/plain": [
       "<Figure size 500x200 with 2 Axes>"
      ]
     },
     "metadata": {},
     "output_type": "display_data"
    },
    {
     "data": {
      "text/html": [
       "<hr>"
      ],
      "text/plain": [
       "<IPython.core.display.HTML object>"
      ]
     },
     "metadata": {},
     "output_type": "display_data"
    }
   ],
   "source": [
    "def plot_score_distr(df):   \n",
    "    df['mean_paper_score'] = df['scores'].apply(lambda x: np.mean(x))\n",
    "    df['std_paper_score'] = df['scores'].apply(lambda x: np.std(x))\n",
    "    fig, axs = plt.subplots(1, 2, figsize=(5, 2))\n",
    "    df.hist(column='mean_paper_score', bins=30, ax=axs[0])\n",
    "    df.hist(column='std_paper_score', bins=30, ax=axs[1]);\n",
    "    plt.show()\n",
    "\n",
    "for matching_name, info in all_matchings.items():\n",
    "    print(\"Matchings:\", matching_name)\n",
    "    matchings = info['matchings']\n",
    "    scores_df = matchings_to_scores_df(matchings)\n",
    "    all_matchings[matching_name]['scores_df'] = scores_df\n",
    "    plot_score_distr(scores_df)\n",
    "    display(HTML('<hr>'))\n"
   ]
  },
  {
   "cell_type": "code",
   "execution_count": 5,
   "id": "173e0180-859a-43ab-b9cd-f99a1e5dbb0a",
   "metadata": {},
   "outputs": [
    {
     "name": "stdout",
     "output_type": "stream",
     "text": [
      "assignments_max_4_5.json \n",
      "\t95% of assignments have a score >= 0.70 (count 96). \n",
      "\tThe top 5% assignments have a score >= 1.09 (count 6).\n",
      "assignments_q_0.75_4_5.json \n",
      "\t95% of assignments have a score >= 0.59 (count 96). \n",
      "\tThe top 5% assignments have a score >= 0.95 (count 6).\n"
     ]
    }
   ],
   "source": [
    "def quantile_report(df, quantile, column='mean_paper_score'):\n",
    "    lowq_mean_score = df[column].quantile(quantile)\n",
    "    highq_mean_score = df[column].quantile(1-quantile)\n",
    "    return lowq_mean_score, highq_mean_score\n",
    "\n",
    "\n",
    "quantile = 0.05\n",
    "for matching_name, info in all_matchings.items():\n",
    "    scores_df = info['scores_df']\n",
    "    low_score, high_score = quantile_report(scores_df, quantile)\n",
    "    # Not strict inequalities;\n",
    "    low_count = len(scores_df[scores_df['mean_paper_score'] >= low_score])\n",
    "    high_count = len(scores_df[scores_df['mean_paper_score'] >= high_score])\n",
    "    print(matching_name, f\"\\n\\t{(1 - quantile) * 100:.0f}% of assignments have a score >= {low_score:.2f} (count {low_count}).\",\n",
    "         f\"\\n\\tThe top {(quantile) * 100:.0f}% assignments have a score >= {high_score:.2f} (count {high_count}).\")"
   ]
  },
  {
   "cell_type": "markdown",
   "id": "30dbc0aa-7fd6-4873-8547-3a6e37c82444",
   "metadata": {},
   "source": [
    "# Inspecting Tail Scores\n",
    "\n",
    "For tail papers, check if\n",
    "1. If there are outlier reviewers; one or more reviewers with a particularly low scores and flag them.\n",
    "2. If there are no high-affinity reviewers for some papers, flag them."
   ]
  },
  {
   "cell_type": "code",
   "execution_count": 6,
   "id": "69d2618e-fa96-495c-9a9b-6580e1fa677c",
   "metadata": {},
   "outputs": [
    {
     "name": "stdout",
     "output_type": "stream",
     "text": [
      "assignments_max_4_5.json\n",
      "\tTest 1: There are no reviewers with low relative affinity score (score <= mean - std, std: 0.1)\n",
      "\tTest 2: All the reviewers have low individual scores. There are no 'high-affinity' reviewers. (std: 0.1)\n"
     ]
    },
    {
     "data": {
      "text/html": [
       "<div>\n",
       "<style scoped>\n",
       "    .dataframe tbody tr th:only-of-type {\n",
       "        vertical-align: middle;\n",
       "    }\n",
       "\n",
       "    .dataframe tbody tr th {\n",
       "        vertical-align: top;\n",
       "    }\n",
       "\n",
       "    .dataframe thead th {\n",
       "        text-align: right;\n",
       "    }\n",
       "</style>\n",
       "<table border=\"1\" class=\"dataframe\">\n",
       "  <thead>\n",
       "    <tr style=\"text-align: right;\">\n",
       "      <th></th>\n",
       "      <th>paper_id</th>\n",
       "      <th>scores</th>\n",
       "      <th>mean_paper_score</th>\n",
       "      <th>std_paper_score</th>\n",
       "    </tr>\n",
       "  </thead>\n",
       "  <tbody>\n",
       "    <tr>\n",
       "      <th>0</th>\n",
       "      <td>0</td>\n",
       "      <td>[0.0, 0.0, 0.0, 0.0]</td>\n",
       "      <td>0.000000</td>\n",
       "      <td>0.000000</td>\n",
       "    </tr>\n",
       "    <tr>\n",
       "      <th>11</th>\n",
       "      <td>8QJSTDII5d</td>\n",
       "      <td>[0.7104705572128296, 0.6999890804290771, 0.736...</td>\n",
       "      <td>0.697945</td>\n",
       "      <td>0.033712</td>\n",
       "    </tr>\n",
       "    <tr>\n",
       "      <th>41</th>\n",
       "      <td>QZ1DVzr6N9</td>\n",
       "      <td>[0.6976308822631836, 0.6650077104568481, 0.681...</td>\n",
       "      <td>0.691282</td>\n",
       "      <td>0.020651</td>\n",
       "    </tr>\n",
       "    <tr>\n",
       "      <th>42</th>\n",
       "      <td>Ri9Hgkvlys</td>\n",
       "      <td>[0.735435962677002, 0.6578973531723022, 0.6873...</td>\n",
       "      <td>0.680183</td>\n",
       "      <td>0.036099</td>\n",
       "    </tr>\n",
       "    <tr>\n",
       "      <th>69</th>\n",
       "      <td>g8AigOTNXL</td>\n",
       "      <td>[0.691646933555603, 0.7040248513221741, 0.7087...</td>\n",
       "      <td>0.703063</td>\n",
       "      <td>0.006826</td>\n",
       "    </tr>\n",
       "    <tr>\n",
       "      <th>92</th>\n",
       "      <td>vBJZ93tvoE</td>\n",
       "      <td>[0.6739342212677002, 0.7084527611732483, 0.691...</td>\n",
       "      <td>0.684111</td>\n",
       "      <td>0.017586</td>\n",
       "    </tr>\n",
       "  </tbody>\n",
       "</table>\n",
       "</div>"
      ],
      "text/plain": [
       "      paper_id                                             scores  \\\n",
       "0            0                               [0.0, 0.0, 0.0, 0.0]   \n",
       "11  8QJSTDII5d  [0.7104705572128296, 0.6999890804290771, 0.736...   \n",
       "41  QZ1DVzr6N9  [0.6976308822631836, 0.6650077104568481, 0.681...   \n",
       "42  Ri9Hgkvlys  [0.735435962677002, 0.6578973531723022, 0.6873...   \n",
       "69  g8AigOTNXL  [0.691646933555603, 0.7040248513221741, 0.7087...   \n",
       "92  vBJZ93tvoE  [0.6739342212677002, 0.7084527611732483, 0.691...   \n",
       "\n",
       "    mean_paper_score  std_paper_score  \n",
       "0           0.000000         0.000000  \n",
       "11          0.697945         0.033712  \n",
       "41          0.691282         0.020651  \n",
       "42          0.680183         0.036099  \n",
       "69          0.703063         0.006826  \n",
       "92          0.684111         0.017586  "
      ]
     },
     "metadata": {},
     "output_type": "display_data"
    },
    {
     "data": {
      "text/html": [
       "<hr>"
      ],
      "text/plain": [
       "<IPython.core.display.HTML object>"
      ]
     },
     "metadata": {},
     "output_type": "display_data"
    },
    {
     "name": "stdout",
     "output_type": "stream",
     "text": [
      "assignments_q_0.75_4_5.json\n",
      "\tTest 1: There are no reviewers with low relative affinity score (score <= mean - std, std: 0.1)\n",
      "\tTest 2: All the reviewers have low individual scores. There are no 'high-affinity' reviewers. (std: 0.1)\n"
     ]
    },
    {
     "data": {
      "text/html": [
       "<div>\n",
       "<style scoped>\n",
       "    .dataframe tbody tr th:only-of-type {\n",
       "        vertical-align: middle;\n",
       "    }\n",
       "\n",
       "    .dataframe tbody tr th {\n",
       "        vertical-align: top;\n",
       "    }\n",
       "\n",
       "    .dataframe thead th {\n",
       "        text-align: right;\n",
       "    }\n",
       "</style>\n",
       "<table border=\"1\" class=\"dataframe\">\n",
       "  <thead>\n",
       "    <tr style=\"text-align: right;\">\n",
       "      <th></th>\n",
       "      <th>paper_id</th>\n",
       "      <th>scores</th>\n",
       "      <th>mean_paper_score</th>\n",
       "      <th>std_paper_score</th>\n",
       "    </tr>\n",
       "  </thead>\n",
       "  <tbody>\n",
       "    <tr>\n",
       "      <th>0</th>\n",
       "      <td>0</td>\n",
       "      <td>[0.0, 0.0, 0.0, 0.0]</td>\n",
       "      <td>0.000000</td>\n",
       "      <td>0.000000</td>\n",
       "    </tr>\n",
       "    <tr>\n",
       "      <th>29</th>\n",
       "      <td>Jjp4YgnCOV</td>\n",
       "      <td>[0.5814629793167114, 0.5903639793395996, 0.581...</td>\n",
       "      <td>0.572833</td>\n",
       "      <td>0.020373</td>\n",
       "    </tr>\n",
       "    <tr>\n",
       "      <th>41</th>\n",
       "      <td>QZ1DVzr6N9</td>\n",
       "      <td>[0.577831506729126, 0.6223934888839722, 0.5668...</td>\n",
       "      <td>0.584772</td>\n",
       "      <td>0.022064</td>\n",
       "    </tr>\n",
       "    <tr>\n",
       "      <th>76</th>\n",
       "      <td>kyWZXZ5ZHd</td>\n",
       "      <td>[0.5706658363342285, 0.5897578994433085, 0.626...</td>\n",
       "      <td>0.593353</td>\n",
       "      <td>0.020579</td>\n",
       "    </tr>\n",
       "    <tr>\n",
       "      <th>82</th>\n",
       "      <td>oDUJmNCV8D</td>\n",
       "      <td>[0.5806973576545715, 0.6559441089630127, 0.579...</td>\n",
       "      <td>0.589869</td>\n",
       "      <td>0.041005</td>\n",
       "    </tr>\n",
       "    <tr>\n",
       "      <th>90</th>\n",
       "      <td>u3iXuPfOVb</td>\n",
       "      <td>[0.5778948664665222, 0.6163705587387085, 0.561...</td>\n",
       "      <td>0.589348</td>\n",
       "      <td>0.020924</td>\n",
       "    </tr>\n",
       "  </tbody>\n",
       "</table>\n",
       "</div>"
      ],
      "text/plain": [
       "      paper_id                                             scores  \\\n",
       "0            0                               [0.0, 0.0, 0.0, 0.0]   \n",
       "29  Jjp4YgnCOV  [0.5814629793167114, 0.5903639793395996, 0.581...   \n",
       "41  QZ1DVzr6N9  [0.577831506729126, 0.6223934888839722, 0.5668...   \n",
       "76  kyWZXZ5ZHd  [0.5706658363342285, 0.5897578994433085, 0.626...   \n",
       "82  oDUJmNCV8D  [0.5806973576545715, 0.6559441089630127, 0.579...   \n",
       "90  u3iXuPfOVb  [0.5778948664665222, 0.6163705587387085, 0.561...   \n",
       "\n",
       "    mean_paper_score  std_paper_score  \n",
       "0           0.000000         0.000000  \n",
       "29          0.572833         0.020373  \n",
       "41          0.584772         0.022064  \n",
       "76          0.593353         0.020579  \n",
       "82          0.589869         0.041005  \n",
       "90          0.589348         0.020924  "
      ]
     },
     "metadata": {},
     "output_type": "display_data"
    },
    {
     "data": {
      "text/html": [
       "<hr>"
      ],
      "text/plain": [
       "<IPython.core.display.HTML object>"
      ]
     },
     "metadata": {},
     "output_type": "display_data"
    }
   ],
   "source": [
    "# Note: Manually selected looking at the distribution of std deviations.\n",
    "max_std = 0.10\n",
    "for matching_name, info in all_matchings.items():\n",
    "    df = info['scores_df']\n",
    "    low_score, high_score = quantile_report(df, quantile)\n",
    "    low_df = df[df['mean_paper_score'] <= low_score]\n",
    "    e_df = low_df[low_df['std_paper_score'] > max_std].copy()\n",
    "    print(matching_name)\n",
    "    # Are these papers low tail because some of the reviewrs have low scores?\n",
    "    if len(e_df) == 0:\n",
    "        print(f\"\\tTest 1: There are no reviewers with low relative affinity score (score <= mean - std, std: {max_std})\")\n",
    "    else:\n",
    "        # 1-std away from mean. \n",
    "        e_df['outlier_scores'] = e_df['scores'].apply(lambda scores: [x for x in scores if x < np.mean(scores) - max_std])\n",
    "        display(e_df)\n",
    "    # Do all the reviewers have low score? Then the quality of overall reviews might be low.\n",
    "    f_df = low_df[low_df['std_paper_score'] < max_std].copy()\n",
    "    if len(f_df) > 0:\n",
    "        print(\"\\tTest 2: All the reviewers have low individual scores. \" +\n",
    "                  f\"There are no 'high-affinity' reviewers. (std: {max_std})\")\n",
    "        display(f_df)\n",
    "    else:\n",
    "        print(\"\\tTest 2: There is at least one high affinity reviewer\")\n",
    "    display(HTML('<hr>'))"
   ]
  },
  {
   "cell_type": "markdown",
   "id": "170dda5f-cb89-4808-a384-df2a8aebc45f",
   "metadata": {},
   "source": [
    "# General Reviewer Load "
   ]
  },
  {
   "cell_type": "code",
   "execution_count": 7,
   "id": "43909a4e-6f2e-42d9-ac53-09a0795d7925",
   "metadata": {},
   "outputs": [
    {
     "name": "stdout",
     "output_type": "stream",
     "text": [
      "assignments_max_4_5.json\n",
      "assignments_q_0.75_4_5.json\n"
     ]
    },
    {
     "data": {
      "image/png": "[encoded data removed]",
      "text/plain": [
       "<Figure size 400x300 with 1 Axes>"
      ]
     },
     "metadata": {},
     "output_type": "display_data"
    },
    {
     "data": {
      "image/png": "[encoded data removed]",
      "text/plain": [
       "<Figure size 400x300 with 1 Axes>"
      ]
     },
     "metadata": {},
     "output_type": "display_data"
    }
   ],
   "source": [
    "for matching_name, info in all_matchings.items():\n",
    "    print(matching_name)\n",
    "    matchings = info['matchings']\n",
    "    load_df = matchings_to_load_df(matchings)\n",
    "    load_df['npapers'] = load_df['paper_info'].apply(lambda x: len(x))\n",
    "    load_df.hist(column='npapers', figsize=(4,3))\n",
    "    info['load_df'] = load_df\n",
    "    all_matchings[matching_name] = info"
   ]
  },
  {
   "cell_type": "code",
   "execution_count": null,
   "id": "0e6948c7-2964-4871-93db-928f5587aa96",
   "metadata": {},
   "outputs": [],
   "source": []
  }
 ],
 "metadata": {
  "kernelspec": {
   "display_name": "Python 3 (ipykernel)",
   "language": "python",
   "name": "python3"
  },
  "language_info": {
   "codemirror_mode": {
    "name": "ipython",
    "version": 3
   },
   "file_extension": ".py",
   "mimetype": "text/x-python",
   "name": "python",
   "nbconvert_exporter": "python",
   "pygments_lexer": "ipython3",
   "version": "3.10.16"
  }
 },
 "nbformat": 4,
 "nbformat_minor": 5
}
