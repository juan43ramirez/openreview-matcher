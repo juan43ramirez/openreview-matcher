{
 "cells": [
  {
   "cell_type": "markdown",
   "id": "6315fe3e-43a4-4fbf-9868-1fba9945bdd0",
   "metadata": {},
   "source": [
    "# Evaluating Matchings Produced by Various Hyperparameters and Constraints"
   ]
  },
  {
   "cell_type": "code",
   "execution_count": 3,
   "id": "3f40e835-c7b9-49ef-9712-2cad8f091b95",
   "metadata": {},
   "outputs": [],
   "source": [
    "import time\n",
    "import argparse\n",
    "import json\n",
    "import os\n",
    "import numpy as np\n",
    "import pandas as pd\n",
    "import matplotlib.pyplot as plt\n",
    "import seaborn as sns\n",
    "from IPython.display import HTML\n",
    "\n",
    "# Configuration\n",
    "class Cfg:\n",
    "    # Comment out the matchings you want to exclude. \n",
    "    matchings = [\n",
    "        # 'assignments_all_reviewers_10_1.json',\n",
    "        'assignments_all_reviewers_4.json',\n",
    "        'assignments_max_4_5.json', 'assignments_q_0.75_4_5.json', \n",
    "    ]\n",
    "    # 1.1 GB file\n",
    "    scores_with_origin = 'scores_with_origin.csv'\n",
    "    root_dir = './data/'\n",
    "    reviewer_archive_dir = 'archives/'\n",
    "\n",
    "def hr(): return display(HTML('<hr>'))"
   ]
  },
  {
   "cell_type": "code",
   "execution_count": 60,
   "id": "1c14bcb1-d691-48d3-b2e8-1cc231fbdb72",
   "metadata": {},
   "outputs": [],
   "source": [
    "def load_matchings_file(matchings_path):\n",
    "    with open(matchings_path, 'r') as file:\n",
    "        matchings = json.load(file)\n",
    "    return matchings\n",
    "\n",
    "def to_matchings_df(matchings):\n",
    "    \"\"\"Returns a dataframe with schema {'paper_id': 'str', 'scores': List[float], 'reviewers': List[str]}\"\"\"\n",
    "    records = []\n",
    "    for paper_id in matchings:\n",
    "        vals = matchings[paper_id]\n",
    "        scores = [np.round(v['aggregate_score'], 3) for v in vals]\n",
    "        reviewers = [v['user'] for v in vals]\n",
    "        records.append({'paper_id': paper_id, 'scores': scores, 'reviewers': reviewers})\n",
    "    return pd.DataFrame(records)\n",
    "    \n",
    "def get_quality_metrics(paper_id, reviewers_list, affinity_df):\n",
    "    \"\"\"\n",
    "    Return a record of metrics to use for quality estimation.\n",
    "    returns {'max_affinity': List[float], 'max_affinity_OR': List[float]}\n",
    "    \"\"\"\n",
    "    ix_pid = affinity_df.index.get_level_values('paper_id')\n",
    "    paper_affinity_df = affinity_df[ix_pid == paper_id]\n",
    "    ix_rid = paper_affinity_df.index.get_level_values('reviewer_id')\n",
    "    scores = {\n",
    "        'max_affinities': [], 'max_affinity_papers': [], \n",
    "        'max_affinities_OR' : [], 'max_affinity_OR_papers': []\n",
    "    }\n",
    "    for reviewer_id in reviewers_list:\n",
    "        ss =  paper_affinity_df[ix_rid == reviewer_id].reset_index()\n",
    "        ss_or = ss[ss.origin == 'OR'].reset_index()\n",
    "        \n",
    "        max_affinity_id = ss.affinity_score.idxmax()\n",
    "        max_affinity_or_id = ss_or.affinity_score.idxmax()\n",
    "        print(max_affinity_id)\n",
    "        max_affinity, max_affinity_paper = ss.loc[max_affinity_id].affinity_score, ss.loc[max_affinity_id].reviewers_paper_id\n",
    "        max_affinity_or, max_affinity_or_paper = ss_or.loc[max_affinity_or_id].affinity_score, ss_or.loc[max_affinity_or_id].reviewers_paper_id \n",
    "        scores['max_affinities'].append(np.round(max_affinity, 3))\n",
    "        scores['max_affinities_OR'].append(np.round(max_affinity_or, 3))\n",
    "        scores['max_affinity_papers'].append(max_affinity_paper)\n",
    "        scores['max_affinity_OR_papers'].append(max_affinity_or_paper)\n",
    "    return scores\n",
    "    \n",
    "def to_load_df(matchings):\n",
    "    \"\"\"Returns a dataframe with schema {'reviewer_id': 'str', 'paper_ids': List[str], 'scores': List[str]}.\"\"\"\n",
    "    # reviewer_id -> [(paper_id, score), ...]\n",
    "    reviewer_to_papers = {}\n",
    "    for paper_id in matchings:\n",
    "        for match in matchings[paper_id]:\n",
    "            reviewer = match['user']\n",
    "            score = np.round(match['aggregate_score'], 3)\n",
    "            val = reviewer_to_papers.get(reviewer, [])\n",
    "            val.append(paper_id)\n",
    "            reviewer_to_papers[reviewer] = val\n",
    "    df = pd.DataFrame({'reviewer_id': list(reviewer_to_papers.keys()),\n",
    "                       'paper_info': list(reviewer_to_papers.values())})\n",
    "    return df"
   ]
  },
  {
   "cell_type": "code",
   "execution_count": 61,
   "id": "dfb31607-652f-4a7b-bf1f-2a2626fe49e8",
   "metadata": {},
   "outputs": [],
   "source": [
    "# paper_id: [{'aggregate_score': float, 'user': str}, ...]\n",
    "all_matchings = {fname: {'matchings': load_matchings_file(os.path.join(Cfg.root_dir, fname))} for fname in Cfg.matchings}"
   ]
  },
  {
   "cell_type": "code",
   "execution_count": 62,
   "id": "829ba686-5d2d-4106-bd84-7dcafbcf8403",
   "metadata": {},
   "outputs": [
    {
     "data": {
      "text/html": [
       "<div>\n",
       "<style scoped>\n",
       "    .dataframe tbody tr th:only-of-type {\n",
       "        vertical-align: middle;\n",
       "    }\n",
       "\n",
       "    .dataframe tbody tr th {\n",
       "        vertical-align: top;\n",
       "    }\n",
       "\n",
       "    .dataframe thead th {\n",
       "        text-align: right;\n",
       "    }\n",
       "</style>\n",
       "<table border=\"1\" class=\"dataframe\">\n",
       "  <thead>\n",
       "    <tr style=\"text-align: right;\">\n",
       "      <th></th>\n",
       "      <th>0</th>\n",
       "      <th>1</th>\n",
       "      <th>2</th>\n",
       "      <th>3</th>\n",
       "      <th>4</th>\n",
       "    </tr>\n",
       "  </thead>\n",
       "  <tbody>\n",
       "    <tr>\n",
       "      <th>0</th>\n",
       "      <td>zxdgDq9W0P7</td>\n",
       "      <td>~Aarshvi_Gajjar1</td>\n",
       "      <td>0.763090</td>\n",
       "      <td>other</td>\n",
       "      <td>fA85bseGskN</td>\n",
       "    </tr>\n",
       "    <tr>\n",
       "      <th>1</th>\n",
       "      <td>zxdgDq9W0P7</td>\n",
       "      <td>~Aarshvi_Gajjar1</td>\n",
       "      <td>0.771039</td>\n",
       "      <td>OR</td>\n",
       "      <td>HdJpNjrvTF</td>\n",
       "    </tr>\n",
       "    <tr>\n",
       "      <th>2</th>\n",
       "      <td>zxdgDq9W0P7</td>\n",
       "      <td>~Aarshvi_Gajjar1</td>\n",
       "      <td>0.688224</td>\n",
       "      <td>OR</td>\n",
       "      <td>Ej4YjxAvcp</td>\n",
       "    </tr>\n",
       "    <tr>\n",
       "      <th>3</th>\n",
       "      <td>zLARft1nZR</td>\n",
       "      <td>~Aarshvi_Gajjar1</td>\n",
       "      <td>0.389917</td>\n",
       "      <td>other</td>\n",
       "      <td>fA85bseGskN</td>\n",
       "    </tr>\n",
       "    <tr>\n",
       "      <th>4</th>\n",
       "      <td>zLARft1nZR</td>\n",
       "      <td>~Aarshvi_Gajjar1</td>\n",
       "      <td>0.280514</td>\n",
       "      <td>OR</td>\n",
       "      <td>HdJpNjrvTF</td>\n",
       "    </tr>\n",
       "    <tr>\n",
       "      <th>5</th>\n",
       "      <td>zLARft1nZR</td>\n",
       "      <td>~Aarshvi_Gajjar1</td>\n",
       "      <td>0.403224</td>\n",
       "      <td>OR</td>\n",
       "      <td>Ej4YjxAvcp</td>\n",
       "    </tr>\n",
       "    <tr>\n",
       "      <th>6</th>\n",
       "      <td>xaR1kD6BYY</td>\n",
       "      <td>~Aarshvi_Gajjar1</td>\n",
       "      <td>0.652902</td>\n",
       "      <td>other</td>\n",
       "      <td>fA85bseGskN</td>\n",
       "    </tr>\n",
       "    <tr>\n",
       "      <th>7</th>\n",
       "      <td>xaR1kD6BYY</td>\n",
       "      <td>~Aarshvi_Gajjar1</td>\n",
       "      <td>0.509510</td>\n",
       "      <td>OR</td>\n",
       "      <td>HdJpNjrvTF</td>\n",
       "    </tr>\n",
       "    <tr>\n",
       "      <th>8</th>\n",
       "      <td>xaR1kD6BYY</td>\n",
       "      <td>~Aarshvi_Gajjar1</td>\n",
       "      <td>0.501970</td>\n",
       "      <td>OR</td>\n",
       "      <td>Ej4YjxAvcp</td>\n",
       "    </tr>\n",
       "  </tbody>\n",
       "</table>\n",
       "</div>"
      ],
      "text/plain": [
       "             0                 1         2      3            4\n",
       "0  zxdgDq9W0P7  ~Aarshvi_Gajjar1  0.763090  other  fA85bseGskN\n",
       "1  zxdgDq9W0P7  ~Aarshvi_Gajjar1  0.771039     OR   HdJpNjrvTF\n",
       "2  zxdgDq9W0P7  ~Aarshvi_Gajjar1  0.688224     OR   Ej4YjxAvcp\n",
       "3   zLARft1nZR  ~Aarshvi_Gajjar1  0.389917  other  fA85bseGskN\n",
       "4   zLARft1nZR  ~Aarshvi_Gajjar1  0.280514     OR   HdJpNjrvTF\n",
       "5   zLARft1nZR  ~Aarshvi_Gajjar1  0.403224     OR   Ej4YjxAvcp\n",
       "6   xaR1kD6BYY  ~Aarshvi_Gajjar1  0.652902  other  fA85bseGskN\n",
       "7   xaR1kD6BYY  ~Aarshvi_Gajjar1  0.509510     OR   HdJpNjrvTF\n",
       "8   xaR1kD6BYY  ~Aarshvi_Gajjar1  0.501970     OR   Ej4YjxAvcp"
      ]
     },
     "execution_count": 62,
     "metadata": {},
     "output_type": "execute_result"
    }
   ],
   "source": [
    "# csv_str = \"\"\"\n",
    "# zxdgDq9W0P7,~Aarshvi_Gajjar1,0.7630898952484131,other,fA85bseGskN\n",
    "# zxdgDq9W0P7,~Aarshvi_Gajjar1,0.7710389494895935,OR,HdJpNjrvTF\n",
    "# zxdgDq9W0P7,~Aarshvi_Gajjar1,0.6882244348526001,OR,Ej4YjxAvcp\n",
    "# zLARft1nZR,~Aarshvi_Gajjar1,0.38991743326187134,other,fA85bseGskN\n",
    "# zLARft1nZR,~Aarshvi_Gajjar1,0.28051409125328064,OR,HdJpNjrvTF\n",
    "# zLARft1nZR,~Aarshvi_Gajjar1,0.4032236337661743,OR,Ej4YjxAvcp\n",
    "# xaR1kD6BYY,~Aarshvi_Gajjar1,0.6529017686843872,other,fA85bseGskN\n",
    "# xaR1kD6BYY,~Aarshvi_Gajjar1,0.5095101594924927,OR,HdJpNjrvTF\n",
    "# xaR1kD6BYY,~Aarshvi_Gajjar1,0.501969575881958,OR,Ej4YjxAvcp\n",
    "# \"\"\"\n",
    "\n",
    "# from io import StringIO\n",
    "\n",
    "# affinity_df = pd.read_csv(StringIO(csv_str), header=None)\n",
    "# affinity_df"
   ]
  },
  {
   "cell_type": "code",
   "execution_count": 63,
   "id": "c2c30914-1578-4456-9c33-352b9174e674",
   "metadata": {},
   "outputs": [
    {
     "data": {
      "text/html": [
       "<div>\n",
       "<style scoped>\n",
       "    .dataframe tbody tr th:only-of-type {\n",
       "        vertical-align: middle;\n",
       "    }\n",
       "\n",
       "    .dataframe tbody tr th {\n",
       "        vertical-align: top;\n",
       "    }\n",
       "\n",
       "    .dataframe thead th {\n",
       "        text-align: right;\n",
       "    }\n",
       "</style>\n",
       "<table border=\"1\" class=\"dataframe\">\n",
       "  <thead>\n",
       "    <tr style=\"text-align: right;\">\n",
       "      <th></th>\n",
       "      <th></th>\n",
       "      <th>affinity_score</th>\n",
       "      <th>origin</th>\n",
       "      <th>reviewers_paper_id</th>\n",
       "    </tr>\n",
       "    <tr>\n",
       "      <th>paper_id</th>\n",
       "      <th>reviewer_id</th>\n",
       "      <th></th>\n",
       "      <th></th>\n",
       "      <th></th>\n",
       "    </tr>\n",
       "  </thead>\n",
       "  <tbody>\n",
       "    <tr>\n",
       "      <th>zxdgDq9W0P7</th>\n",
       "      <th>~Aarshvi_Gajjar1</th>\n",
       "      <td>0.771039</td>\n",
       "      <td>OR</td>\n",
       "      <td>HdJpNjrvTF</td>\n",
       "    </tr>\n",
       "    <tr>\n",
       "      <th rowspan=\"2\" valign=\"top\">zLARft1nZR</th>\n",
       "      <th>~Aarshvi_Gajjar1</th>\n",
       "      <td>0.389917</td>\n",
       "      <td>other</td>\n",
       "      <td>fA85bseGskN</td>\n",
       "    </tr>\n",
       "    <tr>\n",
       "      <th>~Aarshvi_Gajjar1</th>\n",
       "      <td>0.280514</td>\n",
       "      <td>OR</td>\n",
       "      <td>HdJpNjrvTF</td>\n",
       "    </tr>\n",
       "    <tr>\n",
       "      <th>xaR1kD6BYY</th>\n",
       "      <th>~Aarshvi_Gajjar1</th>\n",
       "      <td>0.509510</td>\n",
       "      <td>OR</td>\n",
       "      <td>HdJpNjrvTF</td>\n",
       "    </tr>\n",
       "  </tbody>\n",
       "</table>\n",
       "</div>"
      ],
      "text/plain": [
       "                              affinity_score origin reviewers_paper_id\n",
       "paper_id    reviewer_id                                               \n",
       "zxdgDq9W0P7 ~Aarshvi_Gajjar1        0.771039     OR         HdJpNjrvTF\n",
       "zLARft1nZR  ~Aarshvi_Gajjar1        0.389917  other        fA85bseGskN\n",
       "            ~Aarshvi_Gajjar1        0.280514     OR         HdJpNjrvTF\n",
       "xaR1kD6BYY  ~Aarshvi_Gajjar1        0.509510     OR         HdJpNjrvTF"
      ]
     },
     "execution_count": 63,
     "metadata": {},
     "output_type": "execute_result"
    }
   ],
   "source": [
    "affinity_df = pd.read_csv(os.path.join(Cfg.root_dir, Cfg.scores_with_origin), header=None)\n",
    "affinity_df.columns = ['paper_id', 'reviewer_id', 'affinity_score', 'origin', 'reviewers_paper_id']\n",
    "affinity_df.set_index(['paper_id', 'reviewer_id'], inplace=True)\n",
    "affinity_df.sort_index(inplace=True)\n",
    "affinity_df.sample(4)"
   ]
  },
  {
   "cell_type": "code",
   "execution_count": 66,
   "id": "a8996709-dfdd-408f-bd8e-4e7842131561",
   "metadata": {},
   "outputs": [
    {
     "name": "stdout",
     "output_type": "stream",
     "text": [
      "1\n",
      "{'max_affinities': [0.771], 'max_affinity_papers': ['HdJpNjrvTF'], 'max_affinities_OR': [0.771], 'max_affinity_OR_papers': ['HdJpNjrvTF']}\n"
     ]
    }
   ],
   "source": [
    "paper_id = 'zxdgDq9W0P7'\n",
    "reviewers_id = ['~Aarshvi_Gajjar1']\n",
    "print(get_quality_metrics(paper_id, reviewers_id, affinity_df))"
   ]
  },
  {
   "cell_type": "markdown",
   "id": "955296bd-cce8-4984-bb0e-08f3cded3a73",
   "metadata": {},
   "source": [
    "# General Max-affinity Score Statistics\n",
    "\n",
    "- Mean score per paper and its standard deviation.\n",
    "- Lowest 5% quantile score"
   ]
  },
  {
   "cell_type": "code",
   "execution_count": 6,
   "id": "8869826f-a934-4690-97fc-8845ce77f324",
   "metadata": {},
   "outputs": [],
   "source": [
    "for matching_name, info in all_matchings.items():\n",
    "    matchings = info['matchings']\n",
    "    mdf = to_matchings_df(matchings)\n",
    "    mdf['quality_metrics'] = mdf.apply(lambda row: get_quality_metrics(row.paper_id, row.reviewers, affinity_df), axis=1)\n",
    "    all_matchings[matching_name]['matchings_df'] = mdf"
   ]
  },
  {
   "cell_type": "code",
   "execution_count": 18,
   "id": "12f75730-6124-4039-bf6b-c8b78b2863c0",
   "metadata": {},
   "outputs": [],
   "source": [
    "for matching_name, info in all_matchings.items():\n",
    "    mdf = info['matchings_df']\n",
    "    # Unpack\n",
    "    mdf['max_affinities'] = mdf['quality_metrics'].apply(lambda x: x['max_affinities'])\n",
    "    mdf['max_affinities_OR'] = mdf['quality_metrics'].apply(lambda x: x['max_affinities_OR'])\n",
    "    # Compute mean\n",
    "    mdf['mean(max_affinities)'] = mdf['max_affinities'].apply(lambda x: np.mean(x))\n",
    "    mdf['mean(max_affinities_OR)'] = mdf['max_affinities_OR'].apply(lambda x: np.mean(x))\n",
    "    mdf['mean_top2(max_affinities)'] = mdf['max_affinities'].apply(lambda x: np.mean(np.sort(x)[-2:]))\n",
    "    mdf['mean_top2(max_affinities_OR)'] = mdf['max_affinities_OR'].apply(lambda x: np.mean(np.sort(x)[-2:]))\n",
    "    mdf['std(max_affinities)'] = mdf['max_affinities'].apply(lambda x: np.std(x))\n",
    "    mdf['std(max_affinities_OR)'] = mdf['max_affinities_OR'].apply(lambda x: np.std(x))\n",
    "    mdf['n_reviewers'] = mdf['scores'].apply(lambda x: len(x))\n",
    "    #display(mdf[['reviewers', 'max_affinities']].head(1))"
   ]
  },
  {
   "cell_type": "code",
   "execution_count": 19,
   "id": "954ae3c4-89a7-490b-b5de-3dd2e31a1d73",
   "metadata": {},
   "outputs": [
    {
     "name": "stdout",
     "output_type": "stream",
     "text": [
      "Matchings: assignments_all_reviewers_4.json\n"
     ]
    },
    {
     "data": {
      "image/png": "[encoded data removed]",
      "text/plain": [
       "<Figure size 1400x200 with 3 Axes>"
      ]
     },
     "metadata": {},
     "output_type": "display_data"
    },
    {
     "data": {
      "text/html": [
       "<hr>"
      ],
      "text/plain": [
       "<IPython.core.display.HTML object>"
      ]
     },
     "metadata": {},
     "output_type": "display_data"
    },
    {
     "name": "stdout",
     "output_type": "stream",
     "text": [
      "Matchings: assignments_max_4_5.json\n"
     ]
    },
    {
     "data": {
      "image/png": "[encoded data removed]",
      "text/plain": [
       "<Figure size 1400x200 with 3 Axes>"
      ]
     },
     "metadata": {},
     "output_type": "display_data"
    },
    {
     "data": {
      "text/html": [
       "<hr>"
      ],
      "text/plain": [
       "<IPython.core.display.HTML object>"
      ]
     },
     "metadata": {},
     "output_type": "display_data"
    },
    {
     "name": "stdout",
     "output_type": "stream",
     "text": [
      "Matchings: assignments_q_0.75_4_5.json\n"
     ]
    },
    {
     "data": {
      "image/png": "[encoded data removed]",
      "text/plain": [
       "<Figure size 1400x200 with 3 Axes>"
      ]
     },
     "metadata": {},
     "output_type": "display_data"
    },
    {
     "data": {
      "text/html": [
       "<hr>"
      ],
      "text/plain": [
       "<IPython.core.display.HTML object>"
      ]
     },
     "metadata": {},
     "output_type": "display_data"
    }
   ],
   "source": [
    "def plot_score_distr(df): \n",
    "    fig, axs = plt.subplots(1, 3, figsize=(14, 2))\n",
    "    df.hist(column='mean(max_affinities)', bins=30, ax=axs[0])\n",
    "    df.hist(column='mean(max_affinities_OR)', bins=30, ax=axs[1]);\n",
    "    df.hist(column='n_reviewers', bins=30, ax=axs[2]);\n",
    "    plt.show()\n",
    "\n",
    "for matching_name, info in all_matchings.items():\n",
    "    print(\"Matchings:\", matching_name)\n",
    "    sdf = info['matchings_df']\n",
    "    plot_score_distr(sdf)\n",
    "    hr()\n"
   ]
  },
  {
   "cell_type": "code",
   "execution_count": 10,
   "id": "173e0180-859a-43ab-b9cd-f99a1e5dbb0a",
   "metadata": {},
   "outputs": [
    {
     "name": "stdout",
     "output_type": "stream",
     "text": [
      "Using evaluation score: mean(max_affinities)\n"
     ]
    },
    {
     "data": {
      "text/html": [
       "<div>\n",
       "<style scoped>\n",
       "    .dataframe tbody tr th:only-of-type {\n",
       "        vertical-align: middle;\n",
       "    }\n",
       "\n",
       "    .dataframe tbody tr th {\n",
       "        vertical-align: top;\n",
       "    }\n",
       "\n",
       "    .dataframe thead th {\n",
       "        text-align: right;\n",
       "    }\n",
       "</style>\n",
       "<table border=\"1\" class=\"dataframe\">\n",
       "  <thead>\n",
       "    <tr style=\"text-align: right;\">\n",
       "      <th></th>\n",
       "      <th>matching_name</th>\n",
       "      <th>top  5% quantile score</th>\n",
       "      <th>top 95% quantile score</th>\n",
       "    </tr>\n",
       "  </thead>\n",
       "  <tbody>\n",
       "    <tr>\n",
       "      <th>0</th>\n",
       "      <td>assignments_all_reviewers_4.json</td>\n",
       "      <td>0.85</td>\n",
       "      <td>0.70</td>\n",
       "    </tr>\n",
       "    <tr>\n",
       "      <th>1</th>\n",
       "      <td>assignments_max_4_5.json</td>\n",
       "      <td>0.85</td>\n",
       "      <td>0.71</td>\n",
       "    </tr>\n",
       "    <tr>\n",
       "      <th>2</th>\n",
       "      <td>assignments_q_0.75_4_5.json</td>\n",
       "      <td>0.83</td>\n",
       "      <td>0.68</td>\n",
       "    </tr>\n",
       "  </tbody>\n",
       "</table>\n",
       "</div>"
      ],
      "text/plain": [
       "                      matching_name  top  5% quantile score  \\\n",
       "0  assignments_all_reviewers_4.json                    0.85   \n",
       "1          assignments_max_4_5.json                    0.85   \n",
       "2       assignments_q_0.75_4_5.json                    0.83   \n",
       "\n",
       "   top 95% quantile score  \n",
       "0                    0.70  \n",
       "1                    0.71  \n",
       "2                    0.68  "
      ]
     },
     "metadata": {},
     "output_type": "display_data"
    },
    {
     "data": {
      "text/html": [
       "<hr>"
      ],
      "text/plain": [
       "<IPython.core.display.HTML object>"
      ]
     },
     "metadata": {},
     "output_type": "display_data"
    },
    {
     "name": "stdout",
     "output_type": "stream",
     "text": [
      "Using evaluation score: mean(max_affinities_OR)\n"
     ]
    },
    {
     "data": {
      "text/html": [
       "<div>\n",
       "<style scoped>\n",
       "    .dataframe tbody tr th:only-of-type {\n",
       "        vertical-align: middle;\n",
       "    }\n",
       "\n",
       "    .dataframe tbody tr th {\n",
       "        vertical-align: top;\n",
       "    }\n",
       "\n",
       "    .dataframe thead th {\n",
       "        text-align: right;\n",
       "    }\n",
       "</style>\n",
       "<table border=\"1\" class=\"dataframe\">\n",
       "  <thead>\n",
       "    <tr style=\"text-align: right;\">\n",
       "      <th></th>\n",
       "      <th>matching_name</th>\n",
       "      <th>top  5% quantile score</th>\n",
       "      <th>top 95% quantile score</th>\n",
       "    </tr>\n",
       "  </thead>\n",
       "  <tbody>\n",
       "    <tr>\n",
       "      <th>0</th>\n",
       "      <td>assignments_all_reviewers_4.json</td>\n",
       "      <td>0.84</td>\n",
       "      <td>0.67</td>\n",
       "    </tr>\n",
       "    <tr>\n",
       "      <th>1</th>\n",
       "      <td>assignments_max_4_5.json</td>\n",
       "      <td>0.81</td>\n",
       "      <td>0.64</td>\n",
       "    </tr>\n",
       "    <tr>\n",
       "      <th>2</th>\n",
       "      <td>assignments_q_0.75_4_5.json</td>\n",
       "      <td>0.80</td>\n",
       "      <td>0.62</td>\n",
       "    </tr>\n",
       "  </tbody>\n",
       "</table>\n",
       "</div>"
      ],
      "text/plain": [
       "                      matching_name  top  5% quantile score  \\\n",
       "0  assignments_all_reviewers_4.json                    0.84   \n",
       "1          assignments_max_4_5.json                    0.81   \n",
       "2       assignments_q_0.75_4_5.json                    0.80   \n",
       "\n",
       "   top 95% quantile score  \n",
       "0                    0.67  \n",
       "1                    0.64  \n",
       "2                    0.62  "
      ]
     },
     "metadata": {},
     "output_type": "display_data"
    }
   ],
   "source": [
    "def quantile_report(df, quantile, column='mean_paper_score'):\n",
    "    lowq_mean_score = df[column].quantile(quantile)\n",
    "    highq_mean_score = df[column].quantile(1-quantile)\n",
    "    return lowq_mean_score, highq_mean_score\n",
    "\n",
    "\n",
    "quantile = 0.05\n",
    "records = []\n",
    "score_col, std_col = 'mean(max_affinities)', 'std(max_affinities)'\n",
    "for matching_name, info in all_matchings.items():\n",
    "    scores_df = info['matchings_df']\n",
    "    # display(scores_df.sample(3))\n",
    "    low_score, high_score = quantile_report(scores_df, quantile, column=score_col)\n",
    "    # Not strict inequalities;\n",
    "    low_count = len(scores_df[scores_df[score_col] >= low_score])\n",
    "    high_count = len(scores_df[scores_df[score_col] >= high_score])\n",
    "    records.append({\n",
    "        'matching_name': matching_name, \n",
    "        f'top {(quantile) * 100: .0f}% quantile score': high_score.round(2),\n",
    "        f'top {(1 - quantile) * 100:.0f}% quantile score': low_score.round(2),\n",
    "    })\n",
    "print(\"Using evaluation score:\", score_col)\n",
    "display(pd.DataFrame(records))\n",
    "\n",
    "hr()\n",
    "\n",
    "quantile = 0.05\n",
    "records = []\n",
    "score_col, std_col = 'mean(max_affinities_OR)', 'std(max_affinities_OR)'\n",
    "for matching_name, info in all_matchings.items():\n",
    "    scores_df = info['matchings_df']\n",
    "    # display(scores_df.sample(3))\n",
    "    low_score, high_score = quantile_report(scores_df, quantile, column=score_col)\n",
    "    # Not strict inequalities;\n",
    "    low_count = len(scores_df[scores_df[score_col] >= low_score])\n",
    "    high_count = len(scores_df[scores_df[score_col] >= high_score])\n",
    "    records.append({\n",
    "        'matching_name': matching_name, \n",
    "        f'top {(quantile) * 100: .0f}% quantile score': high_score.round(2),\n",
    "        f'top {(1 - quantile) * 100:.0f}% quantile score': low_score.round(2),\n",
    "    })\n",
    "print(\"Using evaluation score:\", score_col)\n",
    "display(pd.DataFrame(records))\n"
   ]
  },
  {
   "cell_type": "markdown",
   "id": "30dbc0aa-7fd6-4873-8547-3a6e37c82444",
   "metadata": {},
   "source": [
    "# Inspect Tail Scores, Test and Flag Potential Outliers\n",
    "\n",
    "For tail papers, check if\n",
    "1. Flag one or more reviewers with a particularly low score for a given paper. Low defined with respect to mean score for the paper.\n",
    "2. If there are no high-affinity reviewers for some papers, flag them.\n",
    "3. ?"
   ]
  },
  {
   "cell_type": "code",
   "execution_count": 11,
   "id": "69d2618e-fa96-495c-9a9b-6580e1fa677c",
   "metadata": {},
   "outputs": [
    {
     "name": "stdout",
     "output_type": "stream",
     "text": [
      "assignments_all_reviewers_4.json\n",
      "\tTest 1: There are NO reviewers with lowscore (score <= mean(paper) - std, std: 0.1)\n",
      "\tTest 2: All the reviewers have low individual scores. There are no 'high-affinity' reviewers. (std: 0.1)\n"
     ]
    },
    {
     "data": {
      "text/html": [
       "<div>\n",
       "<style scoped>\n",
       "    .dataframe tbody tr th:only-of-type {\n",
       "        vertical-align: middle;\n",
       "    }\n",
       "\n",
       "    .dataframe tbody tr th {\n",
       "        vertical-align: top;\n",
       "    }\n",
       "\n",
       "    .dataframe thead th {\n",
       "        text-align: right;\n",
       "    }\n",
       "</style>\n",
       "<table border=\"1\" class=\"dataframe\">\n",
       "  <thead>\n",
       "    <tr style=\"text-align: right;\">\n",
       "      <th></th>\n",
       "      <th>paper_id</th>\n",
       "      <th>reviewers</th>\n",
       "      <th>max_affinities</th>\n",
       "      <th>mean(max_affinities)</th>\n",
       "      <th>std(max_affinities)</th>\n",
       "    </tr>\n",
       "  </thead>\n",
       "  <tbody>\n",
       "    <tr>\n",
       "      <th>21</th>\n",
       "      <td>CtFdaTTAwh</td>\n",
       "      <td>[~Aaqib_Saeed1, ~Yixuan_Chen1, ~Zhuangdi_Zhu1,...</td>\n",
       "      <td>[0.826, 0.633, 0.579, 0.714]</td>\n",
       "      <td>0.68800</td>\n",
       "      <td>0.093040</td>\n",
       "    </tr>\n",
       "    <tr>\n",
       "      <th>25</th>\n",
       "      <td>G8zDeKOp0R</td>\n",
       "      <td>[~Guangmo_Tong1, ~Karsten_Roth1, ~Runzhong_Wan...</td>\n",
       "      <td>[0.673, 0.78, 0.675, 0.648]</td>\n",
       "      <td>0.69400</td>\n",
       "      <td>0.050779</td>\n",
       "    </tr>\n",
       "    <tr>\n",
       "      <th>31</th>\n",
       "      <td>LUXMAeCeWs</td>\n",
       "      <td>[~Alexandru_Tifrea1, ~Chengchao_Shen2, ~Yue_Su...</td>\n",
       "      <td>[0.732, 0.731, 0.705, 0.59]</td>\n",
       "      <td>0.68950</td>\n",
       "      <td>0.058457</td>\n",
       "    </tr>\n",
       "    <tr>\n",
       "      <th>39</th>\n",
       "      <td>Pjunw0i20t</td>\n",
       "      <td>[~Apaar_Sadhwani1, ~Issam_H._Laradji1, ~Yang_L...</td>\n",
       "      <td>[0.521, 0.673, 0.742, 0.687]</td>\n",
       "      <td>0.65575</td>\n",
       "      <td>0.081962</td>\n",
       "    </tr>\n",
       "    <tr>\n",
       "      <th>85</th>\n",
       "      <td>sBRJXfjIYK</td>\n",
       "      <td>[~Dmitrii_Marin2, ~Hwee_Kuan_Lee1, ~Riccardo_M...</td>\n",
       "      <td>[0.693, 0.668, 0.734, 0.648]</td>\n",
       "      <td>0.68575</td>\n",
       "      <td>0.032097</td>\n",
       "    </tr>\n",
       "  </tbody>\n",
       "</table>\n",
       "</div>"
      ],
      "text/plain": [
       "      paper_id                                          reviewers  \\\n",
       "21  CtFdaTTAwh  [~Aaqib_Saeed1, ~Yixuan_Chen1, ~Zhuangdi_Zhu1,...   \n",
       "25  G8zDeKOp0R  [~Guangmo_Tong1, ~Karsten_Roth1, ~Runzhong_Wan...   \n",
       "31  LUXMAeCeWs  [~Alexandru_Tifrea1, ~Chengchao_Shen2, ~Yue_Su...   \n",
       "39  Pjunw0i20t  [~Apaar_Sadhwani1, ~Issam_H._Laradji1, ~Yang_L...   \n",
       "85  sBRJXfjIYK  [~Dmitrii_Marin2, ~Hwee_Kuan_Lee1, ~Riccardo_M...   \n",
       "\n",
       "                  max_affinities  mean(max_affinities)  std(max_affinities)  \n",
       "21  [0.826, 0.633, 0.579, 0.714]               0.68800             0.093040  \n",
       "25   [0.673, 0.78, 0.675, 0.648]               0.69400             0.050779  \n",
       "31   [0.732, 0.731, 0.705, 0.59]               0.68950             0.058457  \n",
       "39  [0.521, 0.673, 0.742, 0.687]               0.65575             0.081962  \n",
       "85  [0.693, 0.668, 0.734, 0.648]               0.68575             0.032097  "
      ]
     },
     "metadata": {},
     "output_type": "display_data"
    },
    {
     "data": {
      "text/html": [
       "<hr>"
      ],
      "text/plain": [
       "<IPython.core.display.HTML object>"
      ]
     },
     "metadata": {},
     "output_type": "display_data"
    },
    {
     "name": "stdout",
     "output_type": "stream",
     "text": [
      "assignments_max_4_5.json\n",
      "\tTest 1: There are NO reviewers with lowscore (score <= mean(paper) - std, std: 0.1)\n",
      "\tTest 2: All the reviewers have low individual scores. There are no 'high-affinity' reviewers. (std: 0.1)\n"
     ]
    },
    {
     "data": {
      "text/html": [
       "<div>\n",
       "<style scoped>\n",
       "    .dataframe tbody tr th:only-of-type {\n",
       "        vertical-align: middle;\n",
       "    }\n",
       "\n",
       "    .dataframe tbody tr th {\n",
       "        vertical-align: top;\n",
       "    }\n",
       "\n",
       "    .dataframe thead th {\n",
       "        text-align: right;\n",
       "    }\n",
       "</style>\n",
       "<table border=\"1\" class=\"dataframe\">\n",
       "  <thead>\n",
       "    <tr style=\"text-align: right;\">\n",
       "      <th></th>\n",
       "      <th>paper_id</th>\n",
       "      <th>reviewers</th>\n",
       "      <th>max_affinities</th>\n",
       "      <th>mean(max_affinities)</th>\n",
       "      <th>std(max_affinities)</th>\n",
       "    </tr>\n",
       "  </thead>\n",
       "  <tbody>\n",
       "    <tr>\n",
       "      <th>10</th>\n",
       "      <td>8QJSTDII5d</td>\n",
       "      <td>[~Chaitanya_Krishna_Joshi1, ~Phillip_Lippe1, ~...</td>\n",
       "      <td>[0.701, 0.671, 0.712, 0.655]</td>\n",
       "      <td>0.68475</td>\n",
       "      <td>0.022808</td>\n",
       "    </tr>\n",
       "    <tr>\n",
       "      <th>15</th>\n",
       "      <td>BJpmRDdA98</td>\n",
       "      <td>[~Johannes_Fürnkranz1, ~Junghyun_Lee1, ~Magda_...</td>\n",
       "      <td>[0.77, 0.667, 0.692, 0.627]</td>\n",
       "      <td>0.68900</td>\n",
       "      <td>0.052197</td>\n",
       "    </tr>\n",
       "    <tr>\n",
       "      <th>41</th>\n",
       "      <td>Ri9Hgkvlys</td>\n",
       "      <td>[~Baoyu_Jing1, ~Eldan_Cohen1, ~Shinichi_Shirak...</td>\n",
       "      <td>[0.754, 0.643, 0.721, 0.655]</td>\n",
       "      <td>0.69325</td>\n",
       "      <td>0.045959</td>\n",
       "    </tr>\n",
       "    <tr>\n",
       "      <th>75</th>\n",
       "      <td>kyWZXZ5ZHd</td>\n",
       "      <td>[~Johannes_Fürnkranz1, ~Magda_Gregorova2, ~Par...</td>\n",
       "      <td>[0.691, 0.666, 0.665, 0.717]</td>\n",
       "      <td>0.68475</td>\n",
       "      <td>0.021335</td>\n",
       "    </tr>\n",
       "    <tr>\n",
       "      <th>94</th>\n",
       "      <td>x7zpwGCE5v</td>\n",
       "      <td>[~Jihun_Hamm1, ~Ming_Li15, ~Mingxuan_Ju1, ~Yun...</td>\n",
       "      <td>[0.708, 0.743, 0.675, 0.63]</td>\n",
       "      <td>0.68900</td>\n",
       "      <td>0.041695</td>\n",
       "    </tr>\n",
       "  </tbody>\n",
       "</table>\n",
       "</div>"
      ],
      "text/plain": [
       "      paper_id                                          reviewers  \\\n",
       "10  8QJSTDII5d  [~Chaitanya_Krishna_Joshi1, ~Phillip_Lippe1, ~...   \n",
       "15  BJpmRDdA98  [~Johannes_Fürnkranz1, ~Junghyun_Lee1, ~Magda_...   \n",
       "41  Ri9Hgkvlys  [~Baoyu_Jing1, ~Eldan_Cohen1, ~Shinichi_Shirak...   \n",
       "75  kyWZXZ5ZHd  [~Johannes_Fürnkranz1, ~Magda_Gregorova2, ~Par...   \n",
       "94  x7zpwGCE5v  [~Jihun_Hamm1, ~Ming_Li15, ~Mingxuan_Ju1, ~Yun...   \n",
       "\n",
       "                  max_affinities  mean(max_affinities)  std(max_affinities)  \n",
       "10  [0.701, 0.671, 0.712, 0.655]               0.68475             0.022808  \n",
       "15   [0.77, 0.667, 0.692, 0.627]               0.68900             0.052197  \n",
       "41  [0.754, 0.643, 0.721, 0.655]               0.69325             0.045959  \n",
       "75  [0.691, 0.666, 0.665, 0.717]               0.68475             0.021335  \n",
       "94   [0.708, 0.743, 0.675, 0.63]               0.68900             0.041695  "
      ]
     },
     "metadata": {},
     "output_type": "display_data"
    },
    {
     "data": {
      "text/html": [
       "<hr>"
      ],
      "text/plain": [
       "<IPython.core.display.HTML object>"
      ]
     },
     "metadata": {},
     "output_type": "display_data"
    },
    {
     "name": "stdout",
     "output_type": "stream",
     "text": [
      "assignments_q_0.75_4_5.json\n",
      "\tTest 1: There are NO reviewers with lowscore (score <= mean(paper) - std, std: 0.1)\n",
      "\tTest 2: All the reviewers have low individual scores. There are no 'high-affinity' reviewers. (std: 0.1)\n"
     ]
    },
    {
     "data": {
      "text/html": [
       "<div>\n",
       "<style scoped>\n",
       "    .dataframe tbody tr th:only-of-type {\n",
       "        vertical-align: middle;\n",
       "    }\n",
       "\n",
       "    .dataframe tbody tr th {\n",
       "        vertical-align: top;\n",
       "    }\n",
       "\n",
       "    .dataframe thead th {\n",
       "        text-align: right;\n",
       "    }\n",
       "</style>\n",
       "<table border=\"1\" class=\"dataframe\">\n",
       "  <thead>\n",
       "    <tr style=\"text-align: right;\">\n",
       "      <th></th>\n",
       "      <th>paper_id</th>\n",
       "      <th>reviewers</th>\n",
       "      <th>max_affinities</th>\n",
       "      <th>mean(max_affinities)</th>\n",
       "      <th>std(max_affinities)</th>\n",
       "    </tr>\n",
       "  </thead>\n",
       "  <tbody>\n",
       "    <tr>\n",
       "      <th>10</th>\n",
       "      <td>8QJSTDII5d</td>\n",
       "      <td>[~Parth_Kashyap_Thaker1, ~Sebastian_Mair1, ~Ta...</td>\n",
       "      <td>[0.569, 0.642, 0.705, 0.622]</td>\n",
       "      <td>0.63450</td>\n",
       "      <td>0.048665</td>\n",
       "    </tr>\n",
       "    <tr>\n",
       "      <th>15</th>\n",
       "      <td>BJpmRDdA98</td>\n",
       "      <td>[~Antoine_Gourru1, ~Lanjun_Wang1, ~Marek_Elias...</td>\n",
       "      <td>[0.611, 0.68, 0.627, 0.617]</td>\n",
       "      <td>0.63375</td>\n",
       "      <td>0.027307</td>\n",
       "    </tr>\n",
       "    <tr>\n",
       "      <th>68</th>\n",
       "      <td>g8AigOTNXL</td>\n",
       "      <td>[~Abdul_Fatir_Ansari2, ~Amrit_Bedi1, ~Shuangru...</td>\n",
       "      <td>[0.721, 0.667, 0.585, 0.647]</td>\n",
       "      <td>0.65500</td>\n",
       "      <td>0.048642</td>\n",
       "    </tr>\n",
       "    <tr>\n",
       "      <th>75</th>\n",
       "      <td>kyWZXZ5ZHd</td>\n",
       "      <td>[~Haitao_Lin2, ~Hongying_Liu2, ~Magda_Gregorov...</td>\n",
       "      <td>[0.654, 0.707, 0.666, 0.641]</td>\n",
       "      <td>0.66700</td>\n",
       "      <td>0.024729</td>\n",
       "    </tr>\n",
       "    <tr>\n",
       "      <th>94</th>\n",
       "      <td>x7zpwGCE5v</td>\n",
       "      <td>[~Baoyu_Jing1, ~Kun_He1, ~Sergey_Shuvaev1, ~Xu...</td>\n",
       "      <td>[0.649, 0.675, 0.628, 0.683]</td>\n",
       "      <td>0.65875</td>\n",
       "      <td>0.021753</td>\n",
       "    </tr>\n",
       "  </tbody>\n",
       "</table>\n",
       "</div>"
      ],
      "text/plain": [
       "      paper_id                                          reviewers  \\\n",
       "10  8QJSTDII5d  [~Parth_Kashyap_Thaker1, ~Sebastian_Mair1, ~Ta...   \n",
       "15  BJpmRDdA98  [~Antoine_Gourru1, ~Lanjun_Wang1, ~Marek_Elias...   \n",
       "68  g8AigOTNXL  [~Abdul_Fatir_Ansari2, ~Amrit_Bedi1, ~Shuangru...   \n",
       "75  kyWZXZ5ZHd  [~Haitao_Lin2, ~Hongying_Liu2, ~Magda_Gregorov...   \n",
       "94  x7zpwGCE5v  [~Baoyu_Jing1, ~Kun_He1, ~Sergey_Shuvaev1, ~Xu...   \n",
       "\n",
       "                  max_affinities  mean(max_affinities)  std(max_affinities)  \n",
       "10  [0.569, 0.642, 0.705, 0.622]               0.63450             0.048665  \n",
       "15   [0.611, 0.68, 0.627, 0.617]               0.63375             0.027307  \n",
       "68  [0.721, 0.667, 0.585, 0.647]               0.65500             0.048642  \n",
       "75  [0.654, 0.707, 0.666, 0.641]               0.66700             0.024729  \n",
       "94  [0.649, 0.675, 0.628, 0.683]               0.65875             0.021753  "
      ]
     },
     "metadata": {},
     "output_type": "display_data"
    },
    {
     "data": {
      "text/html": [
       "<hr>"
      ],
      "text/plain": [
       "<IPython.core.display.HTML object>"
      ]
     },
     "metadata": {},
     "output_type": "display_data"
    }
   ],
   "source": [
    "# Note: Manually selected looking at the distribution of std deviations.\n",
    "score_list_col, score_col, std_col, max_std = 'max_affinities', 'mean(max_affinities)', 'std(max_affinities)', 0.10\n",
    "display_cols = ['paper_id', 'reviewers', score_list_col, score_col, std_col, 'mean_top2(max_affinities)']\n",
    "for matching_name, info in all_matchings.items():\n",
    "    df = info['matchings_df']\n",
    "    low_score, high_score = quantile_report(df, quantile, column=score_col)\n",
    "    low_df = df[df[score_col] <= low_score]\n",
    "    e_df = low_df[low_df[std_col] > max_std].copy()\n",
    "    print(matching_name)\n",
    "    # Are these papers low tail because some of the reviewrs have low scores?\n",
    "    if len(e_df) == 0:\n",
    "        print(f\"\\tTest 1: There are NO reviewers with lowscore (score <= mean(paper) - std, std: {max_std})\")\n",
    "    else:\n",
    "        # 1-std away from mean. \n",
    "        print(f\"\\tTest 1: There are reviewers with low score (score <= mean(paper) - std, std: {max_std})\")\n",
    "        e_df['outlier_scores'] = e_df[score_list_col].apply(lambda scores: [x for x in scores if x < np.mean(scores) - max_std])\n",
    "        display(e_df[display_cols + ['outlier_scores']])\n",
    "    # Do all the reviewers have low score? Then the quality of overall reviews might be low.\n",
    "    f_df = low_df[low_df[std_col] < max_std].copy()\n",
    "    if len(f_df) > 0:\n",
    "        print(\"\\tTest 2: All the reviewers have low individual scores. \" +\n",
    "                  f\"There are no 'high-affinity' reviewers. (std: {max_std})\")\n",
    "        display(f_df[display_cols])\n",
    "    else:\n",
    "        print(\"\\tTest 2: There is at least one high affinity reviewer\")\n",
    "    hr()"
   ]
  },
  {
   "cell_type": "markdown",
   "id": "170dda5f-cb89-4808-a384-df2a8aebc45f",
   "metadata": {},
   "source": [
    "# General Reviewer Load "
   ]
  },
  {
   "cell_type": "code",
   "execution_count": 12,
   "id": "43909a4e-6f2e-42d9-ac53-09a0795d7925",
   "metadata": {},
   "outputs": [
    {
     "name": "stdout",
     "output_type": "stream",
     "text": [
      "assignments_all_reviewers_4.json\n"
     ]
    },
    {
     "data": {
      "image/png": "[encoded data removed]",
      "text/plain": [
       "<Figure size 200x100 with 1 Axes>"
      ]
     },
     "metadata": {},
     "output_type": "display_data"
    },
    {
     "data": {
      "text/html": [
       "<hr>"
      ],
      "text/plain": [
       "<IPython.core.display.HTML object>"
      ]
     },
     "metadata": {},
     "output_type": "display_data"
    },
    {
     "name": "stdout",
     "output_type": "stream",
     "text": [
      "assignments_max_4_5.json\n"
     ]
    },
    {
     "data": {
      "image/png": "[encoded data removed]",
      "text/plain": [
       "<Figure size 200x100 with 1 Axes>"
      ]
     },
     "metadata": {},
     "output_type": "display_data"
    },
    {
     "data": {
      "text/html": [
       "<hr>"
      ],
      "text/plain": [
       "<IPython.core.display.HTML object>"
      ]
     },
     "metadata": {},
     "output_type": "display_data"
    },
    {
     "name": "stdout",
     "output_type": "stream",
     "text": [
      "assignments_q_0.75_4_5.json\n"
     ]
    },
    {
     "data": {
      "image/png": "[encoded data removed]",
      "text/plain": [
       "<Figure size 200x100 with 1 Axes>"
      ]
     },
     "metadata": {},
     "output_type": "display_data"
    },
    {
     "data": {
      "text/html": [
       "<hr>"
      ],
      "text/plain": [
       "<IPython.core.display.HTML object>"
      ]
     },
     "metadata": {},
     "output_type": "display_data"
    }
   ],
   "source": [
    "for matching_name, info in all_matchings.items():\n",
    "    print(matching_name)\n",
    "    matchings = info['matchings']\n",
    "    load_df = to_load_df(matchings)\n",
    "    load_df['npapers'] = load_df['paper_info'].apply(lambda x: len(x))\n",
    "    load_df.hist(column='npapers', figsize=(2,1))\n",
    "    info['load_df'] = load_df\n",
    "    all_matchings[matching_name] = info\n",
    "    plt.show()\n",
    "    hr()"
   ]
  },
  {
   "cell_type": "markdown",
   "id": "80221a96-efc0-4357-a45d-ae2a4be829ea",
   "metadata": {},
   "source": [
    "# Compare Changes in Matchings\n",
    "\n",
    "Given two set of assigned reviewers (A, B) for a given `paper_id`, we can define\n",
    "1. Set differences: $A-B$ and $B-A$\n",
    "3. $\\frac{A\\cap B}{A\\cup B}$\n",
    "\n",
    "The some simple statistics can be computed to get a sense of how 'different' the two schemes are, such as;\n",
    "1. % of papers where the matchings did not change; $A-B = B-A = 0$.\n",
    "2. % of papers where the matchings completely changed $\\frac{A\\cap B}{A\\cup B} = 0$.\n",
    "3. For the papers where the matchings changed, how much did the corresponding mean-score change.\n",
    "4. ?\n"
   ]
  },
  {
   "cell_type": "code",
   "execution_count": 13,
   "id": "0e6948c7-2964-4871-93db-928f5587aa96",
   "metadata": {},
   "outputs": [],
   "source": [
    "import itertools\n",
    "\n",
    "def unique_product(sets):\n",
    "    result = set()\n",
    "    for prod in itertools.product(sets, sets):\n",
    "        result.add(tuple(sorted(prod)))\n",
    "    return result\n",
    "\n",
    "def compute_pairwise_stats(df_a, df_b, score_col):\n",
    "    df_a = df_a.set_index('paper_id')\n",
    "    df_b = df_b.set_index('paper_id')\n",
    "    df_a.columns = [c + '_a' for c in df_a.columns]\n",
    "    df_b.columns = [c + '_b' for c in df_b.columns]\n",
    "    df_join = df_b.join(df_a)\n",
    "    df_join['set_reviewers_b'] = df_join['reviewers_b'].apply(lambda x: set(x))\n",
    "    df_join['set_reviewers_a'] = df_join['reviewers_a'].apply(lambda x: set(x))\n",
    "    df_join['set_union_ab'] = df_join.apply(lambda x: x.set_reviewers_a.union(x.set_reviewers_b), axis=1)\n",
    "    df_join['set_inter_ab'] = df_join.apply(lambda x: x.set_reviewers_a.intersection(x.set_reviewers_b), axis=1)\n",
    "    df_join['len(a-b)'] = (df_join['set_reviewers_a'] - df_join['set_reviewers_b']).apply(lambda x: len(x))\n",
    "    df_join['len(b-a)'] = (df_join['set_reviewers_b'] - df_join['set_reviewers_a']).apply(lambda x: len(x))\n",
    "    df_join['inter/union'] = df_join.apply(lambda x: len(x.set_inter_ab) / len(x.set_union_ab), axis=1)\n",
    "    df_join['mean_score_a-mean_score_b'] = df_join.apply(lambda x: x[score_col + '_a'] - x[score_col + '_b'], axis=1)\n",
    "    df_join['mean_score_b-mean_score_a'] = df_join.apply(lambda x: x[score_col + '_b'] - x[score_col + '_a'], axis=1)\n",
    "    return df_join[['len(a-b)', 'len(b-a)', 'inter/union', 'mean_score_b-mean_score_a', 'mean_score_a-mean_score_b']]\n",
    "    \n",
    "sources = list(all_matchings.keys())\n",
    "source_pairs = unique_product(sources)"
   ]
  },
  {
   "cell_type": "code",
   "execution_count": 14,
   "id": "1aeb30ba-beb1-43fc-b306-1a211a58f494",
   "metadata": {},
   "outputs": [
    {
     "name": "stdout",
     "output_type": "stream",
     "text": [
      "a = assignments_all_reviewers_4.json vs b = assignments_max_4_5.json Using evaluation score: mean(max_affinities)\n",
      "Histogram of changes in assignments between A and B\n"
     ]
    },
    {
     "data": {
      "image/png": "[encoded data removed]",
      "text/plain": [
       "<Figure size 1200x200 with 2 Axes>"
      ]
     },
     "metadata": {},
     "output_type": "display_data"
    },
    {
     "name": "stdout",
     "output_type": "stream",
     "text": [
      "Boxplot of score change vs #changes in assignments\n"
     ]
    },
    {
     "data": {
      "image/png": "[encoded data removed]",
      "text/plain": [
       "<Figure size 1200x200 with 2 Axes>"
      ]
     },
     "metadata": {},
     "output_type": "display_data"
    },
    {
     "data": {
      "text/html": [
       "<hr>"
      ],
      "text/plain": [
       "<IPython.core.display.HTML object>"
      ]
     },
     "metadata": {},
     "output_type": "display_data"
    },
    {
     "name": "stdout",
     "output_type": "stream",
     "text": [
      "a = assignments_all_reviewers_4.json vs b = assignments_q_0.75_4_5.json Using evaluation score: mean(max_affinities)\n",
      "Histogram of changes in assignments between A and B\n"
     ]
    },
    {
     "data": {
      "image/png": "[encoded data removed]",
      "text/plain": [
       "<Figure size 1200x200 with 2 Axes>"
      ]
     },
     "metadata": {},
     "output_type": "display_data"
    },
    {
     "name": "stdout",
     "output_type": "stream",
     "text": [
      "Boxplot of score change vs #changes in assignments\n"
     ]
    },
    {
     "data": {
      "image/png": "[encoded data removed]",
      "text/plain": [
       "<Figure size 1200x200 with 2 Axes>"
      ]
     },
     "metadata": {},
     "output_type": "display_data"
    },
    {
     "data": {
      "text/html": [
       "<hr>"
      ],
      "text/plain": [
       "<IPython.core.display.HTML object>"
      ]
     },
     "metadata": {},
     "output_type": "display_data"
    },
    {
     "name": "stdout",
     "output_type": "stream",
     "text": [
      "a = assignments_max_4_5.json vs b = assignments_q_0.75_4_5.json Using evaluation score: mean(max_affinities)\n",
      "Histogram of changes in assignments between A and B\n"
     ]
    },
    {
     "data": {
      "image/png": "[encoded data removed]",
      "text/plain": [
       "<Figure size 1200x200 with 2 Axes>"
      ]
     },
     "metadata": {},
     "output_type": "display_data"
    },
    {
     "name": "stdout",
     "output_type": "stream",
     "text": [
      "Boxplot of score change vs #changes in assignments\n"
     ]
    },
    {
     "data": {
      "image/png": "[encoded data removed]",
      "text/plain": [
       "<Figure size 1200x200 with 2 Axes>"
      ]
     },
     "metadata": {},
     "output_type": "display_data"
    },
    {
     "data": {
      "text/html": [
       "<hr>"
      ],
      "text/plain": [
       "<IPython.core.display.HTML object>"
      ]
     },
     "metadata": {},
     "output_type": "display_data"
    }
   ],
   "source": [
    "score_col = 'mean(max_affinities)'\n",
    "for (key_a, key_b) in source_pairs:\n",
    "    # Debugging\n",
    "    if key_a == key_b: continue\n",
    "        \n",
    "    df_a, df_b = all_matchings[key_a]['matchings_df'].copy(), all_matchings[key_b]['matchings_df'].copy()\n",
    "    print(\"a =\", key_a, \"vs\", \"b =\", key_b, 'Using evaluation score:', score_col)\n",
    "    stats = compute_pairwise_stats(df_a, df_b, score_col)\n",
    "    # Visualize\n",
    "    fig, axs = plt.subplots(1, 2, figsize=(12, 2))\n",
    "    # If sizes of a and b are same, then these are identical\n",
    "    stats.hist(column='len(a-b)', ax=axs[0])\n",
    "    stats.hist(column='len(b-a)', ax=axs[1])\n",
    "    print(\"Histogram of changes in assignments between A and B\")\n",
    "    #stats.hist(column='inter/union', ax=axs[2])\n",
    "    plt.show()\n",
    "    print(\"Boxplot of score change vs #changes in assignments\")\n",
    "    fig, axs = plt.subplots(1, 2, figsize=(12,2))\n",
    "    # Note: Positive change means assignment under A was better\n",
    "    sns.boxplot(data=stats, x='len(a-b)', y='mean_score_a-mean_score_b', ax=axs[0])\n",
    "    axs[0].set_ylabel(\"diff_in_mean_score(a-b)\")\n",
    "    sns.boxplot(data=stats, x='len(b-a)', y='mean_score_b-mean_score_a', ax=axs[1])\n",
    "    axs[1].set_ylabel(\"diff_in_mean_score(b-a)\")\n",
    "    plt.show()\n",
    "    hr()\n",
    "  "
   ]
  },
  {
   "cell_type": "markdown",
   "id": "036ce17e-064e-44a5-9e25-d5509343fbd7",
   "metadata": {},
   "source": [
    "1. Most of the assignments seem to change when going from A to B. There are very few cases with 0-change.\n",
    "2. When going from `a=assignments_max_4_5.json` to `b=assignments_q_0.75_4_5.json` (lower right plot) the score differences seem to be slightly worse on average."
   ]
  },
  {
   "cell_type": "code",
   "execution_count": null,
   "id": "1ad567d5-3433-4946-8955-8edb095646cb",
   "metadata": {},
   "outputs": [],
   "source": []
  },
  {
   "cell_type": "code",
   "execution_count": null,
   "id": "7fc58cba-be99-4937-989d-deeeae9b1969",
   "metadata": {},
   "outputs": [],
   "source": []
  }
 ],
 "metadata": {
  "kernelspec": {
   "display_name": "Python 3 (ipykernel)",
   "language": "python",
   "name": "python3"
  },
  "language_info": {
   "codemirror_mode": {
    "name": "ipython",
    "version": 3
   },
   "file_extension": ".py",
   "mimetype": "text/x-python",
   "name": "python",
   "nbconvert_exporter": "python",
   "pygments_lexer": "ipython3",
   "version": "3.10.16"
  }
 },
 "nbformat": 4,
 "nbformat_minor": 5
}
